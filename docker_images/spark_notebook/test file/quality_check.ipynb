{
 "cells": [
  {
   "cell_type": "code",
   "execution_count": 5,
   "id": "21e0faba-4470-4d10-8067-5283ba7f5f6b",
   "metadata": {},
   "outputs": [],
   "source": [
    "from datetime import datetime\n",
    "from pyspark.sql import SparkSession\n",
    "\n",
    "spark = (SparkSession.builder.appName(\"pyspark-rdd-demo-{}\".format(datetime.today()))\n",
    "        .master(\"spark://spark-master:7077\")      \n",
    "        .getOrCreate())\n",
    "\n",
    "# spark.sparkContext.getConf().getAll()"
   ]
  },
  {
   "cell_type": "code",
   "execution_count": 32,
   "id": "a5db7b21-1156-4eaa-b809-a98ac608a188",
   "metadata": {},
   "outputs": [],
   "source": [
    "spark.stop()"
   ]
  },
  {
   "cell_type": "code",
   "execution_count": 6,
   "id": "8d485289-eada-4f0e-a52f-a7e24a2037b7",
   "metadata": {},
   "outputs": [],
   "source": [
    "silver_products = spark.read.format(\"parquet\").load(\"s3a://warehouse/silver/tiki/products.parquet\")"
   ]
  },
  {
   "cell_type": "code",
   "execution_count": 7,
   "id": "5822308d-9778-4857-9815-c589e1948cd1",
   "metadata": {},
   "outputs": [
    {
     "data": {
      "text/plain": [
       "False"
      ]
     },
     "execution_count": 7,
     "metadata": {},
     "output_type": "execute_result"
    }
   ],
   "source": [
    "x = df.iloc[0]['authors']\n",
    "x != []"
   ]
  },
  {
   "cell_type": "code",
   "execution_count": 12,
   "id": "dbe3e611-3b6c-4693-a302-9b214bf59608",
   "metadata": {},
   "outputs": [
    {
     "data": {
      "text/plain": [
       "307      [(253291, Karen Dillon), (253293, James Allwor...\n",
       "367      [(286405, Michele Cagan), (286407, Elisabeth L...\n",
       "368      [(286359, David Carey), (286361, John E. Morris)]\n",
       "369       [(286333, Blake Masters), (286335, Peter Thiel)]\n",
       "411      [(3407, Daniel Goleman), (144149, Tasha Eurich...\n",
       "417      [(1777, Andrea Schulte-Peevers), (1838, Lonely...\n",
       "434      [(172169, Avinash K. Dixit), (286323, Barry J....\n",
       "516      [(52495, Susan Cain), (430929, Gregory Mone), ...\n",
       "531      [(3300, F. Scott Fitzgerald), (428755, Tony Ta...\n",
       "536       [(3538, Emily Bronte), (431789, Pauline Nestor)]\n",
       "538      [(48690, Ryan Holiday), (85288, Stephen Hansel...\n",
       "671          [(515015, Eric Butow), (515017, Jenn Herman)]\n",
       "972      [(709055, Aleksandra Mizielińska), (709059, Da...\n",
       "1936     [(457351, Masami Sasaki), (457353, Wakamatsu A...\n",
       "1937         [(11658, Jo Condrill), (11660, Bennie Bough)]\n",
       "2144              [(359, Spencer Johnson), (312479, M.D.)]\n",
       "2698     [(5338645, Kenji Shimizu), (5338649, Suzuki Hi...\n",
       "2734      [(16485, Mai Lan Hương), (51354, Hà Thanh Uyên)]\n",
       "3034     [(5716021, Tacy M. Byham), (5716023, Richard S...\n",
       "3225            [(5251425, Saekisan), (5251427, Hanekoto)]\n",
       "3345     [(4289061, Yoshichi Shimada), (4289063, Saburo...\n",
       "3443       [(113661, Richard Guare), (113662, Peg Dawson)]\n",
       "3532      [(455823, Uyên Bùi), (7426883, Nguyễn Trí Đoàn)]\n",
       "3644     [(5258731, Kamui Fujiwara), (5258733, Chiaki K...\n",
       "4413              [(935015, Jason Barron), (8208181, MBA)]\n",
       "5406     [(79888, Yuval Noah Harari), (8252191, David V...\n",
       "5777         [(280891, Jerry Hicks), (9347, Esther Hicks)]\n",
       "5911            [(268, Roger Fisher), (3670, William Ury)]\n",
       "5932         [(3633, John Rothchild), (3634, Peter Lynch)]\n",
       "5936     [(3407, Daniel Goleman), (172475, Morten Hanse...\n",
       "6207     [(515961, Mun Hong Cheong), (515963, Peir Shen...\n",
       "6381     [(170149, Matthew Pollard), (632919, Derek Lew...\n",
       "6434     [(434669, Diana Lea), (691785,  Jennifer Bradb...\n",
       "7094      [(286333, Blake Masters), (286335, Peter Thiel)]\n",
       "7170     [(5287, Alex Rovira), (459021, Ferrnando Trias...\n",
       "7723     [(16485, Mai Lan Hương), (20136, Nguyễn Thanh ...\n",
       "7786      [(5407, Rosie Dickins), (102007, Louie Stowell)]\n",
       "8020     [(26886, Khúc Cẩm Huyên), (5227357, Võ Lê Tú A...\n",
       "8839     [(5330, Donald J.Trump), (24931, Robert T.Kiyo...\n",
       "9117     [(4430989, Geraldine Dawson), (4430991, Sally ...\n",
       "9150      [(291483, Janet Mills), (4371, Don Miguel Ruiz)]\n",
       "9241     [(153182, Fujiko F Fujio), (7814901, Shintano ...\n",
       "9370     [(7980215, BS. Lê Ngọc Anh Thy), (79702, Linh ...\n",
       "10208         [(5582275, Shannon Thomas), (5582277, LCSW)]\n",
       "10757    [(8247741, Dịch Dương), (8247742, Phan Trách B...\n",
       "11068       [(7476405, Chieko Hosokawa), (8249934, Fūmin)]\n",
       "11101       [(7476405, Chieko Hosokawa), (8249934, Fūmin)]\n",
       "Name: authors, dtype: object"
      ]
     },
     "execution_count": 12,
     "metadata": {},
     "output_type": "execute_result"
    }
   ],
   "source": [
    "df = silver_products.toPandas()\n",
    "df[df['authors'].apply(len) > 1]['authors']"
   ]
  },
  {
   "cell_type": "code",
   "execution_count": 10,
   "id": "51b52bbe-a63d-4448-a24f-7987bfdcd2a2",
   "metadata": {},
   "outputs": [],
   "source": [
    "from pyspark.sql.functions import col, explode\n",
    "exploded_authors = silver_products.withColumn(\"author\", explode(col(\"authors\"))) "
   ]
  },
  {
   "cell_type": "code",
   "execution_count": 14,
   "id": "bbf36939-daa2-4022-bf08-58683ab3e9bc",
   "metadata": {},
   "outputs": [
    {
     "data": {
      "text/plain": [
       "0               (21038, Ibuka Masaru)\n",
       "1             (63949, Khương Lệ Bình)\n",
       "2      (1178, Sir Arthur Conan Doyle)\n",
       "3               (143619, Mark Manson)\n",
       "4            (149823, Caroline Barry)\n",
       "                    ...              \n",
       "631                  (8249934, Fūmin)\n",
       "632           (25537, Colleen Hoover)\n",
       "633        (7476405, Chieko Hosokawa)\n",
       "634                  (8249934, Fūmin)\n",
       "635          (611193, Timothy Ferris)\n",
       "Name: author, Length: 636, dtype: object"
      ]
     },
     "execution_count": 14,
     "metadata": {},
     "output_type": "execute_result"
    }
   ],
   "source": [
    "exploded_authors.toPandas()['author']"
   ]
  },
  {
   "cell_type": "code",
   "execution_count": 25,
   "id": "bce225f9-9adb-41cf-b1ed-f9eb71baf5d4",
   "metadata": {},
   "outputs": [],
   "source": [
    "from pyspark.sql.functions import col, explode, arrays_zip\n",
    "\n",
    "def transform_silver_products(silver_products):\n",
    "\n",
    "    select_columns = [\n",
    "        'category_id', 'product_id', 'seller_id', 'brand_id', 'product_name', 'description', 'specifications',\n",
    "        'breadcrumbs', 'original_price', 'discount', 'price', 'discount_rate', 'quantity_sold', 'rating_average',\n",
    "        'review_count', 'day_ago_created', 'product_url', 'is_authentic', 'is_freeship_xtra',\n",
    "        'is_top_deal', 'return_reason', 'inventory_type', 'warranty_period', 'warranty_type', 'warranty_location'\n",
    "    ]\n",
    "\n",
    "    gold_products = silver_products.select(*select_columns)\n",
    "\n",
    "    gold_images_url = silver_products.select(\n",
    "        col(\"product_id\"),\n",
    "        col(\"seller_id\"),\n",
    "        explode(col(\"images_url\")).alias(\"image_url\")\n",
    "    )\n",
    "\n",
    "    exploded_authors = silver_products.withColumn(\"author\", explode(col(\"authors\"))) \\\n",
    "                                      .select(\n",
    "                                          col(\"author._1\").alias(\"author_id\"),\n",
    "                                          col(\"author._2\").alias(\"author_name\")\n",
    "                                      )\n",
    "\n",
    "    gold_authors = exploded_authors.drop_duplicates([\"author_id\"]).dropna()\n",
    "\n",
    "    product_author_pairs = silver_products.withColumn(\"author\", explode(col(\"authors\"))) \\\n",
    "                                          .select(\n",
    "                                              col(\"product_id\"),\n",
    "                                              col(\"seller_id\"),\n",
    "                                              col(\"author._1\").alias(\"author_id\")\n",
    "                                          )\n",
    "\n",
    "    gold_products_authors = product_author_pairs.drop_duplicates()\n",
    "\n",
    "    gold_brands = silver_products.select(\"brand_id\", \"brand_name\") \\\n",
    "                                 .drop_duplicates([\"brand_id\"]) \\\n",
    "                                 .dropna()\n",
    "\n",
    "    return {\n",
    "        \"gold_products\": gold_products,\n",
    "        \"gold_images_url\": gold_images_url,\n",
    "        \"gold_authors\": gold_authors,\n",
    "        \"gold_products_authors\": gold_products_authors,\n",
    "        \"gold_brands\": gold_brands\n",
    "    }\n",
    "result = transform_silver_products(silver_products)"
   ]
  },
  {
   "cell_type": "code",
   "execution_count": 31,
   "id": "55b38566-7e88-4d4a-8af4-7a77cf1f5dd6",
   "metadata": {},
   "outputs": [
    {
     "data": {
      "text/plain": [
       "author_id\n",
       "25537     80\n",
       "46005      7\n",
       "79888      7\n",
       "4406       6\n",
       "12361      6\n",
       "          ..\n",
       "232165     1\n",
       "3300       1\n",
       "860929     1\n",
       "19615      1\n",
       "20806      1\n",
       "Name: count, Length: 449, dtype: int64"
      ]
     },
     "execution_count": 31,
     "metadata": {},
     "output_type": "execute_result"
    }
   ],
   "source": [
    "x = result[\"gold_products_authors\"].toPandas()\n",
    "x['author_id'].value_counts()"
   ]
  },
  {
   "cell_type": "code",
   "execution_count": 47,
   "id": "067f0609-0c48-42f0-8cd7-cd047f02549f",
   "metadata": {},
   "outputs": [
    {
     "data": {
      "text/plain": [
       "0    [Daniel Goleman, Morten Hansen, Harvard Busine...\n",
       "Name: authors_name, dtype: object"
      ]
     },
     "execution_count": 47,
     "metadata": {},
     "output_type": "execute_result"
    }
   ],
   "source": [
    "# Register the DataFrame as a temporary SQL view\n",
    "silver_products.createOrReplaceTempView(\"silver_products\")\n",
    "\n",
    "# Run SQL query\n",
    "result = spark.sql(\"SELECT * FROM silver_products WHERE product_id = 11505582\")\n",
    "\n",
    "# Show the result\n",
    "result.toPandas()['authors_name']\n"
   ]
  },
  {
   "cell_type": "code",
   "execution_count": 16,
   "id": "743acebd-a6a5-47b9-b6e9-5114bb61edcf",
   "metadata": {},
   "outputs": [
    {
     "name": "stdout",
     "output_type": "stream",
     "text": [
      "+---------+--------------+\n",
      "|author_id|   author_name|\n",
      "+---------+--------------+\n",
      "|     3407|Daniel Goleman|\n",
      "|   144149|Daniel Goleman|\n",
      "|   172475|Daniel Goleman|\n",
      "|   172509|Daniel Goleman|\n",
      "|   304427|Daniel Goleman|\n",
      "|   309375|Daniel Goleman|\n",
      "|   310039|Daniel Goleman|\n",
      "+---------+--------------+\n",
      "\n"
     ]
    }
   ],
   "source": [
    "# Register the DataFrame as a temporary SQL view\n",
    "gold_authors.createOrReplaceTempView(\"gold_authors_view\")\n",
    "\n",
    "# Run SQL query\n",
    "result = spark.sql(\"SELECT * FROM gold_authors_view WHERE author_name = 'Daniel Goleman'\")\n",
    "\n",
    "# Show the result\n",
    "result.show()\n"
   ]
  },
  {
   "cell_type": "code",
   "execution_count": 32,
   "id": "dd62195e-a749-4f63-af78-f0e264bd0366",
   "metadata": {},
   "outputs": [],
   "source": [
    "users = spark.read.format(\"parquet\").load(\"s3a://warehouse/gold/tiki/users.parquet\")"
   ]
  },
  {
   "cell_type": "code",
   "execution_count": 3,
   "id": "6eacd6ef-e30f-4811-a100-7e10fa375787",
   "metadata": {},
   "outputs": [],
   "source": [
    "sellers = spark.read.format(\"parquet\").load(\"s3a://warehouse/silver/tiki/sellers.parquet\")"
   ]
  },
  {
   "cell_type": "code",
   "execution_count": 5,
   "id": "de8cf6f2-4253-431c-928f-0ca011a7113e",
   "metadata": {},
   "outputs": [
    {
     "data": {
      "text/plain": [
       "array(['OFFICIAL_STORE', 'NONE', 'TRUSTED_STORE'], dtype=object)"
      ]
     },
     "execution_count": 5,
     "metadata": {},
     "output_type": "execute_result"
    }
   ],
   "source": [
    "sellers.toPandas()['store_level'].unique()"
   ]
  },
  {
   "cell_type": "code",
   "execution_count": 33,
   "id": "e4902335-c6ae-4286-a43f-3a75c1d55e58",
   "metadata": {},
   "outputs": [],
   "source": [
    "from pyspark.sql.functions import col, lit, when, from_unixtime, udf, explode\n",
    "from pyspark.sql.types import IntegerType"
   ]
  },
  {
   "cell_type": "code",
   "execution_count": 5,
   "id": "80e6c212-c539-4720-9f40-ea208524b9b1",
   "metadata": {},
   "outputs": [],
   "source": [
    "products = spark.read.format(\"parquet\").load(\"s3a://warehouse/gold/tiki/products.parquet\")\n",
    "# products = products.toPandas()\n",
    "# products.info()\n"
   ]
  },
  {
   "cell_type": "code",
   "execution_count": 23,
   "id": "a124af0d-5639-40bc-9267-a856cd3f27cd",
   "metadata": {},
   "outputs": [
    {
     "data": {
      "text/plain": [
       "return_reason\n",
       "Bất cứ lý do gì     9455\n",
       "Sản phẩm hư hỏng    1328\n",
       "Không đổi trả        342\n",
       "Name: count, dtype: int64"
      ]
     },
     "execution_count": 23,
     "metadata": {},
     "output_type": "execute_result"
    }
   ],
   "source": [
    "from pyspark.sql.functions import when, col, isnan\n",
    "\n",
    "products = products.withColumn(\n",
    "    \"warranty_type\",\n",
    "    when(isnan(col(\"warranty_type\")) | col(\"warranty_type\").isNull(), \"Không bảo hành\")\n",
    "    .otherwise(col(\"warranty_type\"))\n",
    ")\n",
    "\n",
    "products = products.withColumn(\n",
    "    \"warranty_location\",\n",
    "    when(isnan(col(\"warranty_location\")) | col(\"warranty_location\").isNull(), \"Không bảo hành\")\n",
    "    .otherwise(col(\"warranty_location\"))\n",
    ")\n",
    "products = products.withColumn(\n",
    "    \"return_reason\",\n",
    "    when(col(\"return_reason\") == \"any_reason\", \"Bất cứ lý do gì\")\n",
    "    .when(col(\"return_reason\") == \"defective_product\", \"Sản phẩm hư hỏng\")\n",
    "    .when((col(\"return_reason\") == \"no_return\") | col(\"return_reason\").isNull(), \"Không đổi trả\")\n",
    "    .otherwise(col(\"return_reason\"))\n",
    ")\n",
    "\n",
    "# Hiển thị kết quả\n",
    "products.toPandas()['return_reason'].value_counts()\n"
   ]
  },
  {
   "cell_type": "code",
   "execution_count": 4,
   "id": "f89c767c-0cc4-4314-ac34-6fa03442d7d9",
   "metadata": {},
   "outputs": [
    {
     "ename": "TypeError",
     "evalue": "DataFrame.fillna() got an unexpected keyword argument 'subset'",
     "output_type": "error",
     "traceback": [
      "\u001b[0;31m---------------------------------------------------------------------------\u001b[0m",
      "\u001b[0;31mTypeError\u001b[0m                                 Traceback (most recent call last)",
      "Cell \u001b[0;32mIn[4], line 1\u001b[0m\n\u001b[0;32m----> 1\u001b[0m products \u001b[38;5;241m=\u001b[39m \u001b[43mproducts\u001b[49m\u001b[38;5;241;43m.\u001b[39;49m\u001b[43mfillna\u001b[49m\u001b[43m(\u001b[49m\u001b[38;5;124;43m\"\u001b[39;49m\u001b[38;5;124;43mKhông bảo hành\u001b[39;49m\u001b[38;5;124;43m\"\u001b[39;49m\u001b[43m,\u001b[49m\u001b[43m \u001b[49m\u001b[43msubset\u001b[49m\u001b[38;5;241;43m=\u001b[39;49m\u001b[43m[\u001b[49m\u001b[38;5;124;43m\"\u001b[39;49m\u001b[38;5;124;43mwarranty_type\u001b[39;49m\u001b[38;5;124;43m\"\u001b[39;49m\u001b[43m,\u001b[49m\u001b[43m \u001b[49m\u001b[38;5;124;43m\"\u001b[39;49m\u001b[38;5;124;43mwarranty_location\u001b[39;49m\u001b[38;5;124;43m\"\u001b[39;49m\u001b[43m]\u001b[49m\u001b[43m)\u001b[49m\n\u001b[1;32m      2\u001b[0m \u001b[38;5;66;03m# products_spark_df = products_spark_df.fillna(\"no_return\", subset=[\"return_reason\"])\u001b[39;00m\n\u001b[1;32m      3\u001b[0m \u001b[38;5;66;03m# products_spark_df = products_spark_df.fillna(0, subset=[\"quantity_sold\"])\u001b[39;00m\n",
      "\u001b[0;31mTypeError\u001b[0m: DataFrame.fillna() got an unexpected keyword argument 'subset'"
     ]
    }
   ],
   "source": [
    "products = products.filsplna(\"Không bảo hành\", subset=[\"warranty_type\", \"warranty_location\"])\n",
    "# products_spark_df = products_spark_df.fillna(\"no_return\", subset=[\"return_reason\"])\n",
    "# products_spark_df = products_spark_df.fillna(0, subset=[\"quantity_sold\"])"
   ]
  },
  {
   "cell_type": "code",
   "execution_count": 6,
   "id": "1d2f9d1f-35ba-413b-bf3f-1c9d8d1b7666",
   "metadata": {},
   "outputs": [
    {
     "data": {
      "text/plain": [
       "warranty_type\n",
       "Không bảo hành    7136\n",
       "Điện tử           1528\n",
       "Hóa đơn           1291\n",
       "Phiếu bảo hành     774\n",
       "Tem bảo hành       396\n",
       "Name: count, dtype: int64"
      ]
     },
     "execution_count": 6,
     "metadata": {},
     "output_type": "execute_result"
    }
   ],
   "source": [
    "products_pd = products.toPandas()\n",
    "\n",
    "# products_pd[products_pd['warranty_type'] == 'NaN']\n",
    "products_pd['warranty_type'].value_counts()"
   ]
  },
  {
   "cell_type": "code",
   "execution_count": 4,
   "id": "4ce61ab0-2113-412a-9d02-59c668d2839a",
   "metadata": {},
   "outputs": [
    {
     "name": "stdout",
     "output_type": "stream",
     "text": [
      "<class 'pandas.core.frame.DataFrame'>\n",
      "RangeIndex: 69309 entries, 0 to 69308\n",
      "Data columns (total 3 columns):\n",
      " #   Column      Non-Null Count  Dtype \n",
      "---  ------      --------------  ----- \n",
      " 0   product_id  69309 non-null  int64 \n",
      " 1   seller_id   69309 non-null  int64 \n",
      " 2   image_url   69309 non-null  object\n",
      "dtypes: int64(2), object(1)\n",
      "memory usage: 1.6+ MB\n"
     ]
    }
   ],
   "source": [
    "img_url = spark.read.format(\"parquet\").load(\"s3a://warehouse/gold/tiki/images_url.parquet\")\n",
    "img_url = img_url.toPandas()\n",
    "img_url.info()\n"
   ]
  },
  {
   "cell_type": "code",
   "execution_count": 5,
   "id": "e4e2a5cf-a6c8-4a6d-9362-a4f56d7e7a03",
   "metadata": {},
   "outputs": [
    {
     "data": {
      "text/html": [
       "<div>\n",
       "<style scoped>\n",
       "    .dataframe tbody tr th:only-of-type {\n",
       "        vertical-align: middle;\n",
       "    }\n",
       "\n",
       "    .dataframe tbody tr th {\n",
       "        vertical-align: top;\n",
       "    }\n",
       "\n",
       "    .dataframe thead th {\n",
       "        text-align: right;\n",
       "    }\n",
       "</style>\n",
       "<table border=\"1\" class=\"dataframe\">\n",
       "  <thead>\n",
       "    <tr style=\"text-align: right;\">\n",
       "      <th></th>\n",
       "      <th>product_id</th>\n",
       "      <th>seller_id</th>\n",
       "      <th>image_url</th>\n",
       "    </tr>\n",
       "  </thead>\n",
       "  <tbody>\n",
       "    <tr>\n",
       "      <th>0</th>\n",
       "      <td>122012</td>\n",
       "      <td>1</td>\n",
       "      <td>https://salt.tikicdn.com/ts/product/24/85/1a/7...</td>\n",
       "    </tr>\n",
       "    <tr>\n",
       "      <th>1</th>\n",
       "      <td>122012</td>\n",
       "      <td>1</td>\n",
       "      <td>https://salt.tikicdn.com/media/catalog/product...</td>\n",
       "    </tr>\n",
       "    <tr>\n",
       "      <th>2</th>\n",
       "      <td>122012</td>\n",
       "      <td>1</td>\n",
       "      <td>https://salt.tikicdn.com/media/catalog/product...</td>\n",
       "    </tr>\n",
       "    <tr>\n",
       "      <th>3</th>\n",
       "      <td>122012</td>\n",
       "      <td>1</td>\n",
       "      <td>https://salt.tikicdn.com/media/catalog/product...</td>\n",
       "    </tr>\n",
       "    <tr>\n",
       "      <th>4</th>\n",
       "      <td>122012</td>\n",
       "      <td>1</td>\n",
       "      <td>https://salt.tikicdn.com/media/catalog/product...</td>\n",
       "    </tr>\n",
       "  </tbody>\n",
       "</table>\n",
       "</div>"
      ],
      "text/plain": [
       "   product_id  seller_id                                          image_url\n",
       "0      122012          1  https://salt.tikicdn.com/ts/product/24/85/1a/7...\n",
       "1      122012          1  https://salt.tikicdn.com/media/catalog/product...\n",
       "2      122012          1  https://salt.tikicdn.com/media/catalog/product...\n",
       "3      122012          1  https://salt.tikicdn.com/media/catalog/product...\n",
       "4      122012          1  https://salt.tikicdn.com/media/catalog/product..."
      ]
     },
     "execution_count": 5,
     "metadata": {},
     "output_type": "execute_result"
    }
   ],
   "source": [
    "img_url.head()"
   ]
  },
  {
   "cell_type": "code",
   "execution_count": 35,
   "id": "cbed778f-addf-4a76-9030-d86ae1e2c8af",
   "metadata": {},
   "outputs": [
    {
     "name": "stdout",
     "output_type": "stream",
     "text": [
      "<class 'pandas.core.frame.DataFrame'>\n",
      "RangeIndex: 133909 entries, 0 to 133908\n",
      "Data columns (total 7 columns):\n",
      " #   Column        Non-Null Count   Dtype  \n",
      "---  ------        --------------   -----  \n",
      " 0   user_id       133909 non-null  int64  \n",
      " 1   user_name     133054 non-null  object \n",
      " 2   avatar_url    133909 non-null  object \n",
      " 3   joined_day    133909 non-null  int32  \n",
      " 4   joined_time   133869 non-null  object \n",
      " 5   total_review  133869 non-null  float64\n",
      " 6   total_thank   133869 non-null  float64\n",
      "dtypes: float64(2), int32(1), int64(1), object(3)\n",
      "memory usage: 6.6+ MB\n"
     ]
    }
   ],
   "source": [
    "users = users.toPandas()\n",
    "users.info()"
   ]
  },
  {
   "cell_type": "code",
   "execution_count": 36,
   "id": "8a5e6c04-2d80-47cb-aad0-40367a233689",
   "metadata": {},
   "outputs": [
    {
     "data": {
      "text/plain": [
       "avatar_url\n",
       "//tiki.vn/assets/img/avatar.png                                                                                                                                                                                                                                       97664\n",
       "http://s120.avatar.talk.zdn.vn/default                                                                                                                                                                                                                                   17\n",
       "https://s120.avatar.talk.zdn.vn/default                                                                                                                                                                                                                                  11\n",
       "https://scontent-iad3-1.xx.fbcdn.net/v/t31.0-1/c59.0.200.200a/p200x200/10733713_10150004552801937_4553731092814901385_o.jpg?_nc_cat=1&_nc_sid=12b3be&_nc_ohc=kbRb-3obZ7MAX9TZwXo&_nc_ht=scontent-iad3-1.xx&oh=53c874b14b5499a854349017c7a0b7f6&oe=5EB5F4F5                2\n",
       "https://scontent.xx.fbcdn.net/v/t1.0-1/c59.0.200.200a/p200x200/10645251_10150004552801937_4553731092814901385_n.jpg?_nc_cat=1&_nc_ohc=MmqVv0KK-pYAQn91U9qlCrzC7Nkttsfka0CXqIxU-_lDjdfjyL7YNnQnQ&_nc_ht=scontent.xx&oh=a5f46d3b20dcb81c798a260189ca12cd&oe=5E6E4C12        2\n",
       "                                                                                                                                                                                                                                                                      ...  \n",
       "https://platform-lookaside.fbsbx.com/platform/profilepic/?asid=2165237913488814&height=200&width=200&ext=1571229060&hash=AeRdHEQ7jBMO-FA_                                                                                                                                 1\n",
       "https://graph.facebook.com/v3.3/748213385609581/picture?type=large&return_ssl_resources=1                                                                                                                                                                                 1\n",
       "https://platform-lookaside.fbsbx.com/platform/profilepic/?asid=344422659771148&height=200&width=200&ext=1571227296&hash=AeSnz6_tIjbmIfyL                                                                                                                                  1\n",
       "https://graph.facebook.com/v3.3/1288775367970187/picture?type=large&return_ssl_resources=1                                                                                                                                                                                1\n",
       "https://salt.tikicdn.com/cache/512x512/ts/avatar/a3/9c/e1/81bd2927e340c44c8c3d330cdb6f0c70.png                                                                                                                                                                            1\n",
       "Name: count, Length: 36218, dtype: int64"
      ]
     },
     "execution_count": 36,
     "metadata": {},
     "output_type": "execute_result"
    }
   ],
   "source": [
    "users['avatar_url'].value_counts()"
   ]
  },
  {
   "cell_type": "code",
   "execution_count": null,
   "id": "b205db7c-5762-4731-a400-1c3c5ca5af73",
   "metadata": {},
   "outputs": [],
   "source": []
  }
 ],
 "metadata": {
  "kernelspec": {
   "display_name": "Python 3 (ipykernel)",
   "language": "python",
   "name": "python3"
  },
  "language_info": {
   "codemirror_mode": {
    "name": "ipython",
    "version": 3
   },
   "file_extension": ".py",
   "mimetype": "text/x-python",
   "name": "python",
   "nbconvert_exporter": "python",
   "pygments_lexer": "ipython3",
   "version": "3.11.6"
  }
 },
 "nbformat": 4,
 "nbformat_minor": 5
}
