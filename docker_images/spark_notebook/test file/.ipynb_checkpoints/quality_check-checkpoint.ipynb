{
 "cells": [
  {
   "cell_type": "code",
   "execution_count": 1,
   "id": "21e0faba-4470-4d10-8067-5283ba7f5f6b",
   "metadata": {},
   "outputs": [
    {
     "data": {
      "text/plain": [
       "[('spark.app.id', 'app-20250104172114-0000'),\n",
       " ('spark.hadoop.fs.s3a.connection.ssl.enabled', 'false'),\n",
       " ('spark.jars',\n",
       "  'file:///usr/local/spark-3.5.0-bin-hadoop3/jars/s3-2.29.43.jar,file:///usr/local/spark-3.5.0-bin-hadoop3/jars/aws-java-sdk-1.12.780.jar,file:///usr/local/spark-3.5.0-bin-hadoop3/jars/aws-java-sdk-bundle-1.12.262.jar,file:///usr/local/spark-3.5.0-bin-hadoop3/jars/delta-spark_2.12-3.2.1.jar,file:///usr/local/spark-3.5.0-bin-hadoop3/jars/delta-storage-3.2.1.jar,file:///usr/local/spark-3.5.0-bin-hadoop3/jars/hadoop-aws-3.3.4.jar,file:///usr/local/spark-3.5.0-bin-hadoop3/jars/postgresql-42.7.4.jar'),\n",
       " ('spark.hadoop.fs.s3a.access.key', 'minio'),\n",
       " ('spark.repl.local.jars',\n",
       "  'file:///usr/local/spark-3.5.0-bin-hadoop3/jars/s3-2.29.43.jar,file:///usr/local/spark-3.5.0-bin-hadoop3/jars/aws-java-sdk-1.12.780.jar,file:///usr/local/spark-3.5.0-bin-hadoop3/jars/aws-java-sdk-bundle-1.12.262.jar,file:///usr/local/spark-3.5.0-bin-hadoop3/jars/delta-spark_2.12-3.2.1.jar,file:///usr/local/spark-3.5.0-bin-hadoop3/jars/delta-storage-3.2.1.jar,file:///usr/local/spark-3.5.0-bin-hadoop3/jars/hadoop-aws-3.3.4.jar,file:///usr/local/spark-3.5.0-bin-hadoop3/jars/postgresql-42.7.4.jar'),\n",
       " ('spark.hadoop.fs.s3a.path.style.access', 'true'),\n",
       " ('spark.app.name', 'pyspark-rdd-demo-2025-01-04 17:21:11.609319'),\n",
       " ('spark.app.startTime', '1736011273462'),\n",
       " ('spark.executor.id', 'driver'),\n",
       " ('spark.app.initial.jar.urls',\n",
       "  'spark://7ed08cfaa435:41377/jars/delta-spark_2.12-3.2.1.jar,spark://7ed08cfaa435:41377/jars/delta-storage-3.2.1.jar,spark://7ed08cfaa435:41377/jars/hadoop-aws-3.3.4.jar,spark://7ed08cfaa435:41377/jars/aws-java-sdk-bundle-1.12.262.jar,spark://7ed08cfaa435:41377/jars/aws-java-sdk-1.12.780.jar,spark://7ed08cfaa435:41377/jars/postgresql-42.7.4.jar,spark://7ed08cfaa435:41377/jars/s3-2.29.43.jar'),\n",
       " ('spark.driver.extraJavaOptions',\n",
       "  '-Djava.net.preferIPv6Addresses=false -XX:+IgnoreUnrecognizedVMOptions --add-opens=java.base/java.lang=ALL-UNNAMED --add-opens=java.base/java.lang.invoke=ALL-UNNAMED --add-opens=java.base/java.lang.reflect=ALL-UNNAMED --add-opens=java.base/java.io=ALL-UNNAMED --add-opens=java.base/java.net=ALL-UNNAMED --add-opens=java.base/java.nio=ALL-UNNAMED --add-opens=java.base/java.util=ALL-UNNAMED --add-opens=java.base/java.util.concurrent=ALL-UNNAMED --add-opens=java.base/java.util.concurrent.atomic=ALL-UNNAMED --add-opens=java.base/sun.nio.ch=ALL-UNNAMED --add-opens=java.base/sun.nio.cs=ALL-UNNAMED --add-opens=java.base/sun.security.action=ALL-UNNAMED --add-opens=java.base/sun.util.calendar=ALL-UNNAMED --add-opens=java.security.jgss/sun.security.krb5=ALL-UNNAMED -Djdk.reflect.useDirectMethodHandle=false'),\n",
       " ('spark.hadoop.fs.s3a.impl', 'org.apache.hadoop.fs.s3a.S3AFileSystem'),\n",
       " ('spark.app.submitTime', '1736011273343'),\n",
       " ('spark.sql.extensions', 'io.delta.sql.DeltaSparkSessionExtension'),\n",
       " ('spark.driver.port', '41377'),\n",
       " ('spark.rdd.compress', 'True'),\n",
       " ('spark.driver.host', '7ed08cfaa435'),\n",
       " ('spark.master', 'spark://spark-master:7077'),\n",
       " ('spark.serializer.objectStreamReset', '100'),\n",
       " ('spark.submit.pyFiles', ''),\n",
       " ('spark.submit.deployMode', 'client'),\n",
       " ('spark.hadoop.fs.s3a.endpoint', 'http://minio:9000'),\n",
       " ('spark.hadoop.fs.s3a.secret.key', 'minio123'),\n",
       " ('spark.ui.showConsoleProgress', 'true'),\n",
       " ('spark.sql.catalog.spark_catalog',\n",
       "  'org.apache.spark.sql.delta.catalog.DeltaCatalog'),\n",
       " ('spark.executor.extraJavaOptions',\n",
       "  '-Djava.net.preferIPv6Addresses=false -XX:+IgnoreUnrecognizedVMOptions --add-opens=java.base/java.lang=ALL-UNNAMED --add-opens=java.base/java.lang.invoke=ALL-UNNAMED --add-opens=java.base/java.lang.reflect=ALL-UNNAMED --add-opens=java.base/java.io=ALL-UNNAMED --add-opens=java.base/java.net=ALL-UNNAMED --add-opens=java.base/java.nio=ALL-UNNAMED --add-opens=java.base/java.util=ALL-UNNAMED --add-opens=java.base/java.util.concurrent=ALL-UNNAMED --add-opens=java.base/java.util.concurrent.atomic=ALL-UNNAMED --add-opens=java.base/sun.nio.ch=ALL-UNNAMED --add-opens=java.base/sun.nio.cs=ALL-UNNAMED --add-opens=java.base/sun.security.action=ALL-UNNAMED --add-opens=java.base/sun.util.calendar=ALL-UNNAMED --add-opens=java.security.jgss/sun.security.krb5=ALL-UNNAMED -Djdk.reflect.useDirectMethodHandle=false')]"
      ]
     },
     "execution_count": 1,
     "metadata": {},
     "output_type": "execute_result"
    }
   ],
   "source": [
    "from datetime import datetime\n",
    "from pyspark.sql import SparkSession\n",
    "\n",
    "spark = (SparkSession.builder.appName(\"pyspark-rdd-demo-{}\".format(datetime.today()))\n",
    "        .master(\"spark://spark-master:7077\")      \n",
    "        .getOrCreate())\n",
    "\n",
    "spark.sparkContext.getConf().getAll()"
   ]
  },
  {
   "cell_type": "code",
   "execution_count": 32,
   "id": "dd62195e-a749-4f63-af78-f0e264bd0366",
   "metadata": {},
   "outputs": [],
   "source": [
    "users = spark.read.format(\"parquet\").load(\"s3a://warehouse/gold/tiki/users.parquet\")"
   ]
  },
  {
   "cell_type": "code",
   "execution_count": 3,
   "id": "6eacd6ef-e30f-4811-a100-7e10fa375787",
   "metadata": {},
   "outputs": [],
   "source": [
    "sellers = spark.read.format(\"parquet\").load(\"s3a://warehouse/silver/tiki/sellers.parquet\")"
   ]
  },
  {
   "cell_type": "code",
   "execution_count": 5,
   "id": "de8cf6f2-4253-431c-928f-0ca011a7113e",
   "metadata": {},
   "outputs": [
    {
     "data": {
      "text/plain": [
       "array(['OFFICIAL_STORE', 'NONE', 'TRUSTED_STORE'], dtype=object)"
      ]
     },
     "execution_count": 5,
     "metadata": {},
     "output_type": "execute_result"
    }
   ],
   "source": [
    "sellers.toPandas()['store_level'].unique()"
   ]
  },
  {
   "cell_type": "code",
   "execution_count": 33,
   "id": "e4902335-c6ae-4286-a43f-3a75c1d55e58",
   "metadata": {},
   "outputs": [],
   "source": [
    "from pyspark.sql.functions import col, lit, when, from_unixtime, udf, explode\n",
    "from pyspark.sql.types import IntegerType"
   ]
  },
  {
   "cell_type": "code",
   "execution_count": 5,
   "id": "80e6c212-c539-4720-9f40-ea208524b9b1",
   "metadata": {},
   "outputs": [],
   "source": [
    "products = spark.read.format(\"parquet\").load(\"s3a://warehouse/gold/tiki/products.parquet\")\n",
    "# products = products.toPandas()\n",
    "# products.info()\n"
   ]
  },
  {
   "cell_type": "code",
   "execution_count": 23,
   "id": "a124af0d-5639-40bc-9267-a856cd3f27cd",
   "metadata": {},
   "outputs": [
    {
     "data": {
      "text/plain": [
       "return_reason\n",
       "Bất cứ lý do gì     9455\n",
       "Sản phẩm hư hỏng    1328\n",
       "Không đổi trả        342\n",
       "Name: count, dtype: int64"
      ]
     },
     "execution_count": 23,
     "metadata": {},
     "output_type": "execute_result"
    }
   ],
   "source": [
    "from pyspark.sql.functions import when, col, isnan\n",
    "\n",
    "products = products.withColumn(\n",
    "    \"warranty_type\",\n",
    "    when(isnan(col(\"warranty_type\")) | col(\"warranty_type\").isNull(), \"Không bảo hành\")\n",
    "    .otherwise(col(\"warranty_type\"))\n",
    ")\n",
    "\n",
    "products = products.withColumn(\n",
    "    \"warranty_location\",\n",
    "    when(isnan(col(\"warranty_location\")) | col(\"warranty_location\").isNull(), \"Không bảo hành\")\n",
    "    .otherwise(col(\"warranty_location\"))\n",
    ")\n",
    "products = products.withColumn(\n",
    "    \"return_reason\",\n",
    "    when(col(\"return_reason\") == \"any_reason\", \"Bất cứ lý do gì\")\n",
    "    .when(col(\"return_reason\") == \"defective_product\", \"Sản phẩm hư hỏng\")\n",
    "    .when((col(\"return_reason\") == \"no_return\") | col(\"return_reason\").isNull(), \"Không đổi trả\")\n",
    "    .otherwise(col(\"return_reason\"))\n",
    ")\n",
    "\n",
    "# Hiển thị kết quả\n",
    "products.toPandas()['return_reason'].value_counts()\n"
   ]
  },
  {
   "cell_type": "code",
   "execution_count": 4,
   "id": "f89c767c-0cc4-4314-ac34-6fa03442d7d9",
   "metadata": {},
   "outputs": [
    {
     "ename": "TypeError",
     "evalue": "DataFrame.fillna() got an unexpected keyword argument 'subset'",
     "output_type": "error",
     "traceback": [
      "\u001b[0;31m---------------------------------------------------------------------------\u001b[0m",
      "\u001b[0;31mTypeError\u001b[0m                                 Traceback (most recent call last)",
      "Cell \u001b[0;32mIn[4], line 1\u001b[0m\n\u001b[0;32m----> 1\u001b[0m products \u001b[38;5;241m=\u001b[39m \u001b[43mproducts\u001b[49m\u001b[38;5;241;43m.\u001b[39;49m\u001b[43mfillna\u001b[49m\u001b[43m(\u001b[49m\u001b[38;5;124;43m\"\u001b[39;49m\u001b[38;5;124;43mKhông bảo hành\u001b[39;49m\u001b[38;5;124;43m\"\u001b[39;49m\u001b[43m,\u001b[49m\u001b[43m \u001b[49m\u001b[43msubset\u001b[49m\u001b[38;5;241;43m=\u001b[39;49m\u001b[43m[\u001b[49m\u001b[38;5;124;43m\"\u001b[39;49m\u001b[38;5;124;43mwarranty_type\u001b[39;49m\u001b[38;5;124;43m\"\u001b[39;49m\u001b[43m,\u001b[49m\u001b[43m \u001b[49m\u001b[38;5;124;43m\"\u001b[39;49m\u001b[38;5;124;43mwarranty_location\u001b[39;49m\u001b[38;5;124;43m\"\u001b[39;49m\u001b[43m]\u001b[49m\u001b[43m)\u001b[49m\n\u001b[1;32m      2\u001b[0m \u001b[38;5;66;03m# products_spark_df = products_spark_df.fillna(\"no_return\", subset=[\"return_reason\"])\u001b[39;00m\n\u001b[1;32m      3\u001b[0m \u001b[38;5;66;03m# products_spark_df = products_spark_df.fillna(0, subset=[\"quantity_sold\"])\u001b[39;00m\n",
      "\u001b[0;31mTypeError\u001b[0m: DataFrame.fillna() got an unexpected keyword argument 'subset'"
     ]
    }
   ],
   "source": [
    "products = products.filsplna(\"Không bảo hành\", subset=[\"warranty_type\", \"warranty_location\"])\n",
    "# products_spark_df = products_spark_df.fillna(\"no_return\", subset=[\"return_reason\"])\n",
    "# products_spark_df = products_spark_df.fillna(0, subset=[\"quantity_sold\"])"
   ]
  },
  {
   "cell_type": "code",
   "execution_count": 6,
   "id": "1d2f9d1f-35ba-413b-bf3f-1c9d8d1b7666",
   "metadata": {},
   "outputs": [
    {
     "data": {
      "text/plain": [
       "warranty_type\n",
       "Không bảo hành    7136\n",
       "Điện tử           1528\n",
       "Hóa đơn           1291\n",
       "Phiếu bảo hành     774\n",
       "Tem bảo hành       396\n",
       "Name: count, dtype: int64"
      ]
     },
     "execution_count": 6,
     "metadata": {},
     "output_type": "execute_result"
    }
   ],
   "source": [
    "products_pd = products.toPandas()\n",
    "\n",
    "# products_pd[products_pd['warranty_type'] == 'NaN']\n",
    "products_pd['warranty_type'].value_counts()"
   ]
  },
  {
   "cell_type": "code",
   "execution_count": 4,
   "id": "4ce61ab0-2113-412a-9d02-59c668d2839a",
   "metadata": {},
   "outputs": [
    {
     "name": "stdout",
     "output_type": "stream",
     "text": [
      "<class 'pandas.core.frame.DataFrame'>\n",
      "RangeIndex: 69309 entries, 0 to 69308\n",
      "Data columns (total 3 columns):\n",
      " #   Column      Non-Null Count  Dtype \n",
      "---  ------      --------------  ----- \n",
      " 0   product_id  69309 non-null  int64 \n",
      " 1   seller_id   69309 non-null  int64 \n",
      " 2   image_url   69309 non-null  object\n",
      "dtypes: int64(2), object(1)\n",
      "memory usage: 1.6+ MB\n"
     ]
    }
   ],
   "source": [
    "img_url = spark.read.format(\"parquet\").load(\"s3a://warehouse/gold/tiki/images_url.parquet\")\n",
    "img_url = img_url.toPandas()\n",
    "img_url.info()\n"
   ]
  },
  {
   "cell_type": "code",
   "execution_count": 5,
   "id": "e4e2a5cf-a6c8-4a6d-9362-a4f56d7e7a03",
   "metadata": {},
   "outputs": [
    {
     "data": {
      "text/html": [
       "<div>\n",
       "<style scoped>\n",
       "    .dataframe tbody tr th:only-of-type {\n",
       "        vertical-align: middle;\n",
       "    }\n",
       "\n",
       "    .dataframe tbody tr th {\n",
       "        vertical-align: top;\n",
       "    }\n",
       "\n",
       "    .dataframe thead th {\n",
       "        text-align: right;\n",
       "    }\n",
       "</style>\n",
       "<table border=\"1\" class=\"dataframe\">\n",
       "  <thead>\n",
       "    <tr style=\"text-align: right;\">\n",
       "      <th></th>\n",
       "      <th>product_id</th>\n",
       "      <th>seller_id</th>\n",
       "      <th>image_url</th>\n",
       "    </tr>\n",
       "  </thead>\n",
       "  <tbody>\n",
       "    <tr>\n",
       "      <th>0</th>\n",
       "      <td>122012</td>\n",
       "      <td>1</td>\n",
       "      <td>https://salt.tikicdn.com/ts/product/24/85/1a/7...</td>\n",
       "    </tr>\n",
       "    <tr>\n",
       "      <th>1</th>\n",
       "      <td>122012</td>\n",
       "      <td>1</td>\n",
       "      <td>https://salt.tikicdn.com/media/catalog/product...</td>\n",
       "    </tr>\n",
       "    <tr>\n",
       "      <th>2</th>\n",
       "      <td>122012</td>\n",
       "      <td>1</td>\n",
       "      <td>https://salt.tikicdn.com/media/catalog/product...</td>\n",
       "    </tr>\n",
       "    <tr>\n",
       "      <th>3</th>\n",
       "      <td>122012</td>\n",
       "      <td>1</td>\n",
       "      <td>https://salt.tikicdn.com/media/catalog/product...</td>\n",
       "    </tr>\n",
       "    <tr>\n",
       "      <th>4</th>\n",
       "      <td>122012</td>\n",
       "      <td>1</td>\n",
       "      <td>https://salt.tikicdn.com/media/catalog/product...</td>\n",
       "    </tr>\n",
       "  </tbody>\n",
       "</table>\n",
       "</div>"
      ],
      "text/plain": [
       "   product_id  seller_id                                          image_url\n",
       "0      122012          1  https://salt.tikicdn.com/ts/product/24/85/1a/7...\n",
       "1      122012          1  https://salt.tikicdn.com/media/catalog/product...\n",
       "2      122012          1  https://salt.tikicdn.com/media/catalog/product...\n",
       "3      122012          1  https://salt.tikicdn.com/media/catalog/product...\n",
       "4      122012          1  https://salt.tikicdn.com/media/catalog/product..."
      ]
     },
     "execution_count": 5,
     "metadata": {},
     "output_type": "execute_result"
    }
   ],
   "source": [
    "img_url.head()"
   ]
  },
  {
   "cell_type": "code",
   "execution_count": 35,
   "id": "cbed778f-addf-4a76-9030-d86ae1e2c8af",
   "metadata": {},
   "outputs": [
    {
     "name": "stdout",
     "output_type": "stream",
     "text": [
      "<class 'pandas.core.frame.DataFrame'>\n",
      "RangeIndex: 133909 entries, 0 to 133908\n",
      "Data columns (total 7 columns):\n",
      " #   Column        Non-Null Count   Dtype  \n",
      "---  ------        --------------   -----  \n",
      " 0   user_id       133909 non-null  int64  \n",
      " 1   user_name     133054 non-null  object \n",
      " 2   avatar_url    133909 non-null  object \n",
      " 3   joined_day    133909 non-null  int32  \n",
      " 4   joined_time   133869 non-null  object \n",
      " 5   total_review  133869 non-null  float64\n",
      " 6   total_thank   133869 non-null  float64\n",
      "dtypes: float64(2), int32(1), int64(1), object(3)\n",
      "memory usage: 6.6+ MB\n"
     ]
    }
   ],
   "source": [
    "users = users.toPandas()\n",
    "users.info()"
   ]
  },
  {
   "cell_type": "code",
   "execution_count": 36,
   "id": "8a5e6c04-2d80-47cb-aad0-40367a233689",
   "metadata": {},
   "outputs": [
    {
     "data": {
      "text/plain": [
       "avatar_url\n",
       "//tiki.vn/assets/img/avatar.png                                                                                                                                                                                                                                       97664\n",
       "http://s120.avatar.talk.zdn.vn/default                                                                                                                                                                                                                                   17\n",
       "https://s120.avatar.talk.zdn.vn/default                                                                                                                                                                                                                                  11\n",
       "https://scontent-iad3-1.xx.fbcdn.net/v/t31.0-1/c59.0.200.200a/p200x200/10733713_10150004552801937_4553731092814901385_o.jpg?_nc_cat=1&_nc_sid=12b3be&_nc_ohc=kbRb-3obZ7MAX9TZwXo&_nc_ht=scontent-iad3-1.xx&oh=53c874b14b5499a854349017c7a0b7f6&oe=5EB5F4F5                2\n",
       "https://scontent.xx.fbcdn.net/v/t1.0-1/c59.0.200.200a/p200x200/10645251_10150004552801937_4553731092814901385_n.jpg?_nc_cat=1&_nc_ohc=MmqVv0KK-pYAQn91U9qlCrzC7Nkttsfka0CXqIxU-_lDjdfjyL7YNnQnQ&_nc_ht=scontent.xx&oh=a5f46d3b20dcb81c798a260189ca12cd&oe=5E6E4C12        2\n",
       "                                                                                                                                                                                                                                                                      ...  \n",
       "https://platform-lookaside.fbsbx.com/platform/profilepic/?asid=2165237913488814&height=200&width=200&ext=1571229060&hash=AeRdHEQ7jBMO-FA_                                                                                                                                 1\n",
       "https://graph.facebook.com/v3.3/748213385609581/picture?type=large&return_ssl_resources=1                                                                                                                                                                                 1\n",
       "https://platform-lookaside.fbsbx.com/platform/profilepic/?asid=344422659771148&height=200&width=200&ext=1571227296&hash=AeSnz6_tIjbmIfyL                                                                                                                                  1\n",
       "https://graph.facebook.com/v3.3/1288775367970187/picture?type=large&return_ssl_resources=1                                                                                                                                                                                1\n",
       "https://salt.tikicdn.com/cache/512x512/ts/avatar/a3/9c/e1/81bd2927e340c44c8c3d330cdb6f0c70.png                                                                                                                                                                            1\n",
       "Name: count, Length: 36218, dtype: int64"
      ]
     },
     "execution_count": 36,
     "metadata": {},
     "output_type": "execute_result"
    }
   ],
   "source": [
    "users['avatar_url'].value_counts()"
   ]
  },
  {
   "cell_type": "code",
   "execution_count": null,
   "id": "b205db7c-5762-4731-a400-1c3c5ca5af73",
   "metadata": {},
   "outputs": [],
   "source": []
  }
 ],
 "metadata": {
  "kernelspec": {
   "display_name": "Python 3 (ipykernel)",
   "language": "python",
   "name": "python3"
  },
  "language_info": {
   "codemirror_mode": {
    "name": "ipython",
    "version": 3
   },
   "file_extension": ".py",
   "mimetype": "text/x-python",
   "name": "python",
   "nbconvert_exporter": "python",
   "pygments_lexer": "ipython3",
   "version": "3.11.6"
  }
 },
 "nbformat": 4,
 "nbformat_minor": 5
}
