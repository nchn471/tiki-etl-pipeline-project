{
 "cells": [
  {
   "cell_type": "code",
   "execution_count": null,
   "id": "53fb1c6e-872c-44a4-a96d-87f6bdf106d8",
   "metadata": {},
   "outputs": [],
   "source": [
    "from datetime import datetime\n",
    "from pyspark.sql import SparkSession\n",
    "\n",
    "spark = (SparkSession.builder.appName(\"pyspark-rdd-demo-{}\".format(datetime.today()))\n",
    "        .master(\"spark://spark-master:7077\")      \n",
    "        .getOrCreate())\n",
    "\n",
    "spark.sparkContext.getConf().getAll()"
   ]
  },
  {
   "cell_type": "code",
   "execution_count": 3,
   "id": "0cf82f58-f1d1-4440-ae97-1fd7975f9c82",
   "metadata": {},
   "outputs": [],
   "source": [
    "from pyspark.sql import Row\n",
    "studentDf = spark.createDataFrame([\n",
    "\tRow(id=1,name='vijay',marks=67),\n",
    "\tRow(id=2,name='Ajay',marks=88),\n",
    "\tRow(id=3,name='jay',marks=79),\n",
    "\tRow(id=4,name='vinay',marks=67),\n",
    "])"
   ]
  },
  {
   "cell_type": "code",
   "execution_count": 4,
   "id": "a89de176-6527-4113-a049-3afaa110742a",
   "metadata": {},
   "outputs": [
    {
     "name": "stdout",
     "output_type": "stream",
     "text": [
      "+---+-----+-----+\n",
      "| id| name|marks|\n",
      "+---+-----+-----+\n",
      "|  1|vijay|   67|\n",
      "|  2| Ajay|   88|\n",
      "|  3|  jay|   79|\n",
      "|  4|vinay|   67|\n",
      "+---+-----+-----+\n",
      "\n"
     ]
    }
   ],
   "source": [
    "studentDf.show(5)"
   ]
  },
  {
   "cell_type": "code",
   "execution_count": 10,
   "id": "256f1443-952b-4f18-8442-a6c8e18ecfd3",
   "metadata": {},
   "outputs": [],
   "source": [
    "config = {\n",
    "    \"host\": \"de_psql\",\n",
    "    \"port\": 5432,\n",
    "    \"database\": \"postgres\",\n",
    "    \"user\": \"admin\",\n",
    "    \"password\": \"admin123\",\n",
    "}\n",
    "\n",
    "studentDf.select(\"id\", \"name\", \"marks\").write.format(\"jdbc\") \\\n",
    "    .option(\"url\", f\"jdbc:postgresql://{config['host']}:{config['port']}/{config['database']}\") \\\n",
    "    .option(\"dbtable\", \"dwh.testing\") \\\n",
    "    .option(\"user\", config[\"user\"]) \\\n",
    "    .option(\"password\", config[\"password\"]) \\\n",
    "    .mode(\"overwrite\") \\\n",
    "    .save()\n"
   ]
  },
  {
   "cell_type": "code",
   "execution_count": null,
   "id": "9fe525b9-713e-41d7-a788-c961b8fa8680",
   "metadata": {},
   "outputs": [],
   "source": [
    "obj[ls_columns].to_sql(\n",
    "    name=tmp_tbl,\n",
    "    con=db_conn,\n",
    "    schema=schema,\n",
    "    if_exists=\"replace\",\n",
    "    index=False,\n",
    "    chunksize=10000,\n",
    "    method=\"multi\",\n",
    ")"
   ]
  }
 ],
 "metadata": {
  "kernelspec": {
   "display_name": "Python 3 (ipykernel)",
   "language": "python",
   "name": "python3"
  },
  "language_info": {
   "codemirror_mode": {
    "name": "ipython",
    "version": 3
   },
   "file_extension": ".py",
   "mimetype": "text/x-python",
   "name": "python",
   "nbconvert_exporter": "python",
   "pygments_lexer": "ipython3",
   "version": "3.11.6"
  }
 },
 "nbformat": 4,
 "nbformat_minor": 5
}
